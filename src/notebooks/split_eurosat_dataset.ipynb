{
 "cells": [
  {
   "cell_type": "code",
   "execution_count": 2,
   "id": "ecc7f79c-1ab9-4261-92b7-0e6001d5d32e",
   "metadata": {},
   "outputs": [],
   "source": [
    "import os, glob, json\n",
    "import numpy as np\n",
    "from datetime import datetime"
   ]
  },
  {
   "cell_type": "code",
   "execution_count": 3,
   "id": "3d443ee5-5204-4942-9e28-660ae2f5cf53",
   "metadata": {},
   "outputs": [
    {
     "data": {
      "text/plain": [
       "['Pasture',\n",
       " 'Highway',\n",
       " 'Residential',\n",
       " 'Forest',\n",
       " 'HerbaceousVegetation',\n",
       " 'AnnualCrop',\n",
       " 'River',\n",
       " 'PermanentCrop',\n",
       " 'Industrial',\n",
       " 'SeaLake']"
      ]
     },
     "execution_count": 3,
     "metadata": {},
     "output_type": "execute_result"
    }
   ],
   "source": [
    "topdir = \"/home/user/data/ds/images/remote_sensing/otherDatasets/sentinel_2/tif\"\n",
    "\n",
    "classes = os.listdir(topdir)\n",
    "classes"
   ]
  },
  {
   "cell_type": "code",
   "execution_count": 4,
   "id": "6d7c7176-1111-4817-8c87-02f751fea2ba",
   "metadata": {},
   "outputs": [
    {
     "name": "stdout",
     "output_type": "stream",
     "text": [
      "Pasture 2000\n",
      "Highway 2500\n",
      "Residential 3000\n",
      "Forest 3000\n",
      "HerbaceousVegetation 3000\n",
      "AnnualCrop 3000\n",
      "River 2500\n",
      "PermanentCrop 2500\n",
      "Industrial 2500\n",
      "SeaLake 3000\n"
     ]
    }
   ],
   "source": [
    "for c in classes:\n",
    "    print(c, len(glob.glob(os.path.join(topdir,c,\"*.tif\"))))"
   ]
  },
  {
   "cell_type": "code",
   "execution_count": 5,
   "id": "b5d1ddca-d5a0-46d0-96d4-71e16fd41fa2",
   "metadata": {},
   "outputs": [],
   "source": [
    "n_val_sampels = 200\n",
    "outD = {\"train\":{},\"val\":{}}\n",
    "\n",
    "for c in classes:\n",
    "\n",
    "    all_sampels = glob.glob(os.path.join(topdir,c,\"*.tif\"))\n",
    "    np.random.shuffle(all_sampels)\n",
    "\n",
    "    outD[\"train\"][c] = all_sampels[:-n_val_sampels]\n",
    "    outD[\"val\"][c] = all_sampels[-n_val_sampels:]"
   ]
  },
  {
   "cell_type": "code",
   "execution_count": 8,
   "id": "e226918a-6094-4dc2-88c0-84815ce33142",
   "metadata": {},
   "outputs": [],
   "source": [
    "for c in classes:\n",
    "\n",
    "    s1 = set( outD[\"train\"][c] )\n",
    "    s2 = set( outD[\"val\"][c] )\n",
    "\n",
    "    assert s1.intersection(s2) == set()"
   ]
  },
  {
   "cell_type": "code",
   "execution_count": 11,
   "id": "7d6447e9-b3b8-4d71-9a56-23c088baf16f",
   "metadata": {},
   "outputs": [
    {
     "data": {
      "text/plain": [
       "'eurosat_split_20240919_12:41:08.json'"
      ]
     },
     "execution_count": 11,
     "metadata": {},
     "output_type": "execute_result"
    }
   ],
   "source": [
    "now = datetime.now() # current date and time\n",
    "date_time = now.strftime(\"%Y%m%d_%H:%M:%S\")\n",
    "with open(f'eurosat_split_{date_time}.json', 'w') as fp:\n",
    "    json.dump(outD, fp)\n",
    "f'eurosat_split_{date_time}.json'"
   ]
  },
  {
   "cell_type": "markdown",
   "id": "c0b75cfc-58f9-410c-a7bb-79c80346983b",
   "metadata": {},
   "source": [
    "### "
   ]
  }
 ],
 "metadata": {
  "kernelspec": {
   "display_name": "Python 3 (ipykernel)",
   "language": "python",
   "name": "python3"
  },
  "language_info": {
   "codemirror_mode": {
    "name": "ipython",
    "version": 3
   },
   "file_extension": ".py",
   "mimetype": "text/x-python",
   "name": "python",
   "nbconvert_exporter": "python",
   "pygments_lexer": "ipython3",
   "version": "3.8.12"
  }
 },
 "nbformat": 4,
 "nbformat_minor": 5
}
